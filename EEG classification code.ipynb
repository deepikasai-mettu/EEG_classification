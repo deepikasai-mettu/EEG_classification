{
 "cells": [
  {
   "cell_type": "code",
   "execution_count": 25,
   "id": "adee8d4e",
   "metadata": {},
   "outputs": [],
   "source": [
    "import glob\n",
    "import os.path\n",
    "import numpy as np\n",
    "import pyedflib\n",
    "import pandas as pd\n",
    "import seaborn as sns\n",
    "import matplotlib.pyplot as plt\n",
    "\n",
    "import tqdm\n",
    "import mne\n",
    "from scipy.signal import welch,stft\n",
    "from scipy.stats import skew, kurtosis\n",
    "from scipy.spatial.distance import euclidean\n",
    "\n",
    "from sklearn.tree import DecisionTreeClassifier\n",
    "from sklearn.ensemble import RandomForestClassifier\n",
    "from sklearn.metrics import accuracy_score,f1_score\n",
    "from sklearn.model_selection import train_test_split\n",
    "from imblearn.over_sampling import SMOTE\n",
    "from tensorflow.keras.models import Sequential\n",
    "from tensorflow.keras.layers import Conv2D, MaxPooling2D, Flatten, Dense, Dropout\n",
    "from tensorflow.keras.layers import Conv1D, MaxPooling1D, Flatten, Dense, Dropout"
   ]
  },
  {
   "cell_type": "markdown",
   "id": "e339ca6c",
   "metadata": {},
   "source": [
    "### Feature extraction and Filter"
   ]
  },
  {
   "cell_type": "code",
   "execution_count": 3,
   "id": "0062da38-8924-47af-bbb6-4b4123c90c4e",
   "metadata": {},
   "outputs": [
    {
     "name": "stdout",
     "output_type": "stream",
     "text": [
      "Extracting EDF parameters from C:\\Users\\deepi\\Documents\\2023 - DAE Year 1\\Semester 1\\Foundations Data Analytics Engineering\\Projects\\FDA Project3\\CHB-MIT-data-preprocessing-and-prediction-main\\CHB-MIT-data-preprocessing-and-prediction-main\\data\\chb01\\chb01_03.edf...\n",
      "EDF file detected\n",
      "Setting channel info structure...\n",
      "Creating raw.info structure...\n"
     ]
    },
    {
     "name": "stderr",
     "output_type": "stream",
     "text": [
      "C:\\Users\\deepi\\AppData\\Local\\Temp\\ipykernel_8844\\542965232.py:25: RuntimeWarning: Channel names are not unique, found duplicates for: {'T8-P8'}. Applying running numbers for duplicates.\n",
      "  edf_raw = mne.io.read_raw_edf(file_name, preload=True)\n"
     ]
    },
    {
     "name": "stdout",
     "output_type": "stream",
     "text": [
      "Reading 0 ... 921599  =      0.000 ...  3599.996 secs...\n",
      "Filtering raw data in 1 contiguous segment\n",
      "Setting up band-pass filter from 1 - 50 Hz\n",
      "\n",
      "FIR filter parameters\n",
      "---------------------\n",
      "Designing a one-pass, zero-phase, non-causal bandpass filter:\n",
      "- Windowed time-domain design (firwin) method\n",
      "- Hamming window with 0.0194 passband ripple and 53 dB stopband attenuation\n",
      "- Lower passband edge: 1.00\n",
      "- Lower transition bandwidth: 1.00 Hz (-6 dB cutoff frequency: 0.50 Hz)\n",
      "- Upper passband edge: 50.00 Hz\n",
      "- Upper transition bandwidth: 12.50 Hz (-6 dB cutoff frequency: 56.25 Hz)\n",
      "- Filter length: 845 samples (3.301 s)\n",
      "\n"
     ]
    },
    {
     "name": "stderr",
     "output_type": "stream",
     "text": [
      "[Parallel(n_jobs=1)]: Using backend SequentialBackend with 1 concurrent workers.\n",
      "[Parallel(n_jobs=1)]: Done   1 out of   1 | elapsed:    0.0s remaining:    0.0s\n",
      "[Parallel(n_jobs=1)]: Done   2 out of   2 | elapsed:    0.0s remaining:    0.0s\n",
      "[Parallel(n_jobs=1)]: Done   3 out of   3 | elapsed:    0.0s remaining:    0.0s\n",
      "[Parallel(n_jobs=1)]: Done   4 out of   4 | elapsed:    0.0s remaining:    0.0s\n"
     ]
    },
    {
     "name": "stdout",
     "output_type": "stream",
     "text": [
      "NOTE: pick_types() is a legacy function. New code should use inst.pick(...).\n"
     ]
    },
    {
     "name": "stderr",
     "output_type": "stream",
     "text": [
      "[Parallel(n_jobs=1)]: Done  23 out of  23 | elapsed:    0.5s finished\n"
     ]
    }
   ],
   "source": [
    "def primary_feature_extract(signal):\n",
    "    \n",
    "    # Standard scaling signal and determining different point statistics of signals\n",
    "    signal = (signal - np.mean(signal)) / np.std(signal)\n",
    "    mean = np.mean(signal)\n",
    "    std = np.std(signal)\n",
    "    sample_entropy = np.log(np.std(np.diff(signal)))\n",
    "    fuzzy_entropy = -np.log(euclidean(signal[:-1], signal[1:]) / len(signal))\n",
    "    skewness = skew(signal)\n",
    "    kurt = kurtosis(signal)\n",
    "    return [mean, std, sample_entropy, fuzzy_entropy, skewness, kurt]\n",
    "\n",
    "def secondary_feature_extract(data, fs, window_length_sec=3):\n",
    "    \n",
    "    # Short Time Fourier Transform of the signals to divide longer time signals into shorter segments of equal length\n",
    "    f, t, Zxx = stft(data, fs, nperseg=window_length_sec*fs)\n",
    "    \n",
    "    power = np.mean(np.abs(Zxx)**2, axis=1) \n",
    "\n",
    "    return power\n",
    "\n",
    "def extract_dependent_features_with_timestamps(file_name):\n",
    "\n",
    "    # Reading raw edf file\n",
    "    edf_raw = mne.io.read_raw_edf(file_name, preload=True)\n",
    "    \n",
    "    # Filtering subset of channels between the mentioned lowerpass and highpass\n",
    "    edf_raw.filter(1., 50., fir_design='firwin')\n",
    "\n",
    "    # Picking EEG channel type\n",
    "    edf_raw.pick_types(meg=False, eeg=True, eog=False)\n",
    "\n",
    "    # Filtering samples based on window length\n",
    "    window_length = 3\n",
    "    \n",
    "    # Storing fequnecy of the test\n",
    "    sfreq = edf_raw.info['sfreq'] \n",
    "    window_samples = int(window_length * sfreq)\n",
    "\n",
    "    features_with_timestamps = []\n",
    "\n",
    "    for start in range(0, len(edf_raw.times), window_samples):\n",
    "        end = start + window_samples\n",
    "        if end > len(edf_raw.times):\n",
    "            break\n",
    "\n",
    "        window_data, times = edf_raw[:, start:end]\n",
    "        window_data = np.squeeze(window_data)\n",
    "\n",
    "        timestamp = edf_raw.times[start]\n",
    "\n",
    "        # Sending postion of data based on window sample to extract primary and secondary features\n",
    "        for channel_data in window_data:\n",
    "            primary_features = primary_feature_extract(channel_data)\n",
    "            secondary_features = secondary_feature_extract(channel_data, sfreq)\n",
    "            features_combined = np.concatenate([[timestamp], primary_features, secondary_features])\n",
    "            features_with_timestamps.append(features_combined)\n",
    "\n",
    "    return np.array(features_with_timestamps)\n",
    "\n",
    "a= extract_dependent_features_with_timestamps(\"data/chb01/chb01_03.edf\")"
   ]
  },
  {
   "cell_type": "markdown",
   "id": "30d42021",
   "metadata": {},
   "source": [
    "### Data Preprocessing"
   ]
  },
  {
   "cell_type": "code",
   "execution_count": 4,
   "id": "c5955de4-3b56-491a-9c07-ee840d339d9e",
   "metadata": {},
   "outputs": [],
   "source": [
    "\n",
    "def extract_independent_feature(summary_file_path, edf_path):\n",
    "    edf_file_name = os.path.basename(edf_path)\n",
    "    \n",
    "    seizure_start_time = None\n",
    "    seizure_end_time = None\n",
    "\n",
    "    with open(summary_file_path, 'r') as file:\n",
    "        lines = file.readlines()\n",
    "\n",
    "    found = False\n",
    "\n",
    "    for line in lines:\n",
    "        if \"File Name: \" + edf_file_name in line:\n",
    "            found = True\n",
    "        if found:\n",
    "            if \"Number of Seizures in File: 0\" in line:\n",
    "                return None, None \n",
    "            if \"Seizure Start Time:\" in line:\n",
    "                seizure_start_time = int(line.split(\": \")[1].split(\" \")[0])\n",
    "            if \"Seizure End Time:\" in line:\n",
    "                seizure_end_time = int(line.split(\": \")[1].split(\" \")[0])\n",
    "                break \n",
    "    return seizure_start_time, seizure_end_time"
   ]
  },
  {
   "cell_type": "code",
   "execution_count": 5,
   "id": "da4f0b67",
   "metadata": {},
   "outputs": [],
   "source": [
    "def data_extract_with_labels(edf_path, summary_file_path):\n",
    "\n",
    "    # Extracting dependent features\n",
    "    X = extract_dependent_features_with_timestamps(edf_path)\n",
    "    \n",
    "    # Extracting target variable\n",
    "    seizure_start_time, seizure_end_time = extract_independent_feature(summary_file_path, edf_path)\n",
    "    y = np.array([1 if seizure_start_time <= row[0] <= seizure_end_time else 0 for row in X])\n",
    "\n",
    "    X = X[:,1:]\n",
    "    return X,y\n",
    "\n",
    "\n",
    "def data_ingest(sub_code,initial_path):\n",
    "  \n",
    "    # Storing path of all edf files of each subject in a sorted list by tracing through driectory using glob\n",
    "    edf_path = sorted(glob.glob(os.path.join(initial_path, \"chb{:02d}/*.edf\".format(sub_code))))\n",
    "    \n",
    "    # Extracting path of summary file within each subject\n",
    "    summary_file_path = os.path.join(initial_path, \"chb{:02d}/chb{:02d}-summary.txt\".format(sub_code, sub_code))\n",
    "    \n",
    "    full_X = []\n",
    "    full_y = []\n",
    "    \n",
    "    # For each file path extracting data and creating X(dependent variable) and y(independent variables)\n",
    "    for edf_path in edf_path:\n",
    "        X, y = data_extract_with_labels(edf_path, summary_file_path)\n",
    "        full_X.append(X)\n",
    "        full_y.append(y)\n",
    "    return full_X,full_y\n",
    "\n"
   ]
  },
  {
   "cell_type": "code",
   "execution_count": 6,
   "id": "ff00f287",
   "metadata": {},
   "outputs": [
    {
     "name": "stdout",
     "output_type": "stream",
     "text": [
      "Extracting EDF parameters from C:\\Users\\deepi\\Documents\\2023 - DAE Year 1\\Semester 1\\Foundations Data Analytics Engineering\\Projects\\FDA Project3\\CHB-MIT-data-preprocessing-and-prediction-main\\CHB-MIT-data-preprocessing-and-prediction-main\\data\\chb01\\chb01_03.edf...\n",
      "EDF file detected\n",
      "Setting channel info structure...\n",
      "Creating raw.info structure...\n",
      "Reading 0 ... 921599  =      0.000 ...  3599.996 secs...\n",
      "Filtering raw data in 1 contiguous segment\n"
     ]
    },
    {
     "name": "stderr",
     "output_type": "stream",
     "text": [
      "C:\\Users\\deepi\\AppData\\Local\\Temp\\ipykernel_8844\\542965232.py:25: RuntimeWarning: Channel names are not unique, found duplicates for: {'T8-P8'}. Applying running numbers for duplicates.\n",
      "  edf_raw = mne.io.read_raw_edf(file_name, preload=True)\n"
     ]
    },
    {
     "name": "stdout",
     "output_type": "stream",
     "text": [
      "Setting up band-pass filter from 1 - 50 Hz\n",
      "\n",
      "FIR filter parameters\n",
      "---------------------\n",
      "Designing a one-pass, zero-phase, non-causal bandpass filter:\n",
      "- Windowed time-domain design (firwin) method\n",
      "- Hamming window with 0.0194 passband ripple and 53 dB stopband attenuation\n",
      "- Lower passband edge: 1.00\n",
      "- Lower transition bandwidth: 1.00 Hz (-6 dB cutoff frequency: 0.50 Hz)\n",
      "- Upper passband edge: 50.00 Hz\n",
      "- Upper transition bandwidth: 12.50 Hz (-6 dB cutoff frequency: 56.25 Hz)\n",
      "- Filter length: 845 samples (3.301 s)\n",
      "\n"
     ]
    },
    {
     "name": "stderr",
     "output_type": "stream",
     "text": [
      "[Parallel(n_jobs=1)]: Using backend SequentialBackend with 1 concurrent workers.\n",
      "[Parallel(n_jobs=1)]: Done   1 out of   1 | elapsed:    0.0s remaining:    0.0s\n",
      "[Parallel(n_jobs=1)]: Done   2 out of   2 | elapsed:    0.0s remaining:    0.0s\n",
      "[Parallel(n_jobs=1)]: Done   3 out of   3 | elapsed:    0.0s remaining:    0.0s\n",
      "[Parallel(n_jobs=1)]: Done   4 out of   4 | elapsed:    0.0s remaining:    0.0s\n"
     ]
    },
    {
     "name": "stdout",
     "output_type": "stream",
     "text": [
      "NOTE: pick_types() is a legacy function. New code should use inst.pick(...).\n"
     ]
    },
    {
     "name": "stderr",
     "output_type": "stream",
     "text": [
      "[Parallel(n_jobs=1)]: Done  23 out of  23 | elapsed:    0.3s finished\n"
     ]
    },
    {
     "name": "stdout",
     "output_type": "stream",
     "text": [
      "Extracting EDF parameters from C:\\Users\\deepi\\Documents\\2023 - DAE Year 1\\Semester 1\\Foundations Data Analytics Engineering\\Projects\\FDA Project3\\CHB-MIT-data-preprocessing-and-prediction-main\\CHB-MIT-data-preprocessing-and-prediction-main\\data\\chb01\\chb01_04.edf...\n",
      "EDF file detected\n",
      "Setting channel info structure...\n",
      "Creating raw.info structure...\n",
      "Reading 0 ... 921599  =      0.000 ...  3599.996 secs...\n"
     ]
    },
    {
     "name": "stderr",
     "output_type": "stream",
     "text": [
      "C:\\Users\\deepi\\AppData\\Local\\Temp\\ipykernel_8844\\542965232.py:25: RuntimeWarning: Channel names are not unique, found duplicates for: {'T8-P8'}. Applying running numbers for duplicates.\n",
      "  edf_raw = mne.io.read_raw_edf(file_name, preload=True)\n"
     ]
    },
    {
     "name": "stdout",
     "output_type": "stream",
     "text": [
      "Filtering raw data in 1 contiguous segment\n",
      "Setting up band-pass filter from 1 - 50 Hz\n",
      "\n",
      "FIR filter parameters\n",
      "---------------------\n",
      "Designing a one-pass, zero-phase, non-causal bandpass filter:\n",
      "- Windowed time-domain design (firwin) method\n",
      "- Hamming window with 0.0194 passband ripple and 53 dB stopband attenuation\n",
      "- Lower passband edge: 1.00\n",
      "- Lower transition bandwidth: 1.00 Hz (-6 dB cutoff frequency: 0.50 Hz)\n",
      "- Upper passband edge: 50.00 Hz\n",
      "- Upper transition bandwidth: 12.50 Hz (-6 dB cutoff frequency: 56.25 Hz)\n",
      "- Filter length: 845 samples (3.301 s)\n",
      "\n"
     ]
    },
    {
     "name": "stderr",
     "output_type": "stream",
     "text": [
      "[Parallel(n_jobs=1)]: Using backend SequentialBackend with 1 concurrent workers.\n",
      "[Parallel(n_jobs=1)]: Done   1 out of   1 | elapsed:    0.0s remaining:    0.0s\n",
      "[Parallel(n_jobs=1)]: Done   2 out of   2 | elapsed:    0.0s remaining:    0.0s\n",
      "[Parallel(n_jobs=1)]: Done   3 out of   3 | elapsed:    0.0s remaining:    0.0s\n",
      "[Parallel(n_jobs=1)]: Done   4 out of   4 | elapsed:    0.0s remaining:    0.0s\n"
     ]
    },
    {
     "name": "stdout",
     "output_type": "stream",
     "text": [
      "NOTE: pick_types() is a legacy function. New code should use inst.pick(...).\n"
     ]
    },
    {
     "name": "stderr",
     "output_type": "stream",
     "text": [
      "[Parallel(n_jobs=1)]: Done  23 out of  23 | elapsed:    0.4s finished\n"
     ]
    },
    {
     "name": "stdout",
     "output_type": "stream",
     "text": [
      "Extracting EDF parameters from C:\\Users\\deepi\\Documents\\2023 - DAE Year 1\\Semester 1\\Foundations Data Analytics Engineering\\Projects\\FDA Project3\\CHB-MIT-data-preprocessing-and-prediction-main\\CHB-MIT-data-preprocessing-and-prediction-main\\data\\chb01\\chb01_15.edf...\n",
      "EDF file detected\n",
      "Setting channel info structure...\n",
      "Creating raw.info structure...\n",
      "Reading 0 ... 921599  =      0.000 ...  3599.996 secs...\n"
     ]
    },
    {
     "name": "stderr",
     "output_type": "stream",
     "text": [
      "C:\\Users\\deepi\\AppData\\Local\\Temp\\ipykernel_8844\\542965232.py:25: RuntimeWarning: Channel names are not unique, found duplicates for: {'T8-P8'}. Applying running numbers for duplicates.\n",
      "  edf_raw = mne.io.read_raw_edf(file_name, preload=True)\n"
     ]
    },
    {
     "name": "stdout",
     "output_type": "stream",
     "text": [
      "Filtering raw data in 1 contiguous segment\n",
      "Setting up band-pass filter from 1 - 50 Hz\n",
      "\n",
      "FIR filter parameters\n",
      "---------------------\n",
      "Designing a one-pass, zero-phase, non-causal bandpass filter:\n",
      "- Windowed time-domain design (firwin) method\n",
      "- Hamming window with 0.0194 passband ripple and 53 dB stopband attenuation\n",
      "- Lower passband edge: 1.00\n",
      "- Lower transition bandwidth: 1.00 Hz (-6 dB cutoff frequency: 0.50 Hz)\n",
      "- Upper passband edge: 50.00 Hz\n",
      "- Upper transition bandwidth: 12.50 Hz (-6 dB cutoff frequency: 56.25 Hz)\n",
      "- Filter length: 845 samples (3.301 s)\n",
      "\n"
     ]
    },
    {
     "name": "stderr",
     "output_type": "stream",
     "text": [
      "[Parallel(n_jobs=1)]: Using backend SequentialBackend with 1 concurrent workers.\n",
      "[Parallel(n_jobs=1)]: Done   1 out of   1 | elapsed:    0.0s remaining:    0.0s\n",
      "[Parallel(n_jobs=1)]: Done   2 out of   2 | elapsed:    0.0s remaining:    0.0s\n",
      "[Parallel(n_jobs=1)]: Done   3 out of   3 | elapsed:    0.0s remaining:    0.0s\n",
      "[Parallel(n_jobs=1)]: Done   4 out of   4 | elapsed:    0.0s remaining:    0.0s\n"
     ]
    },
    {
     "name": "stdout",
     "output_type": "stream",
     "text": [
      "NOTE: pick_types() is a legacy function. New code should use inst.pick(...).\n"
     ]
    },
    {
     "name": "stderr",
     "output_type": "stream",
     "text": [
      "[Parallel(n_jobs=1)]: Done  23 out of  23 | elapsed:    0.3s finished\n"
     ]
    },
    {
     "name": "stdout",
     "output_type": "stream",
     "text": [
      "Extracting EDF parameters from C:\\Users\\deepi\\Documents\\2023 - DAE Year 1\\Semester 1\\Foundations Data Analytics Engineering\\Projects\\FDA Project3\\CHB-MIT-data-preprocessing-and-prediction-main\\CHB-MIT-data-preprocessing-and-prediction-main\\data\\chb01\\chb01_16.edf...\n",
      "EDF file detected\n",
      "Setting channel info structure...\n",
      "Creating raw.info structure...\n",
      "Reading 0 ... 921599  =      0.000 ...  3599.996 secs...\n",
      "Filtering raw data in 1 contiguous segment\n",
      "Setting up band-pass filter from 1 - 50 Hz\n",
      "\n",
      "FIR filter parameters\n",
      "---------------------\n",
      "Designing a one-pass, zero-phase, non-causal bandpass filter:\n"
     ]
    },
    {
     "name": "stderr",
     "output_type": "stream",
     "text": [
      "C:\\Users\\deepi\\AppData\\Local\\Temp\\ipykernel_8844\\542965232.py:25: RuntimeWarning: Channel names are not unique, found duplicates for: {'T8-P8'}. Applying running numbers for duplicates.\n",
      "  edf_raw = mne.io.read_raw_edf(file_name, preload=True)\n"
     ]
    },
    {
     "name": "stdout",
     "output_type": "stream",
     "text": [
      "- Windowed time-domain design (firwin) method\n",
      "- Hamming window with 0.0194 passband ripple and 53 dB stopband attenuation\n",
      "- Lower passband edge: 1.00\n",
      "- Lower transition bandwidth: 1.00 Hz (-6 dB cutoff frequency: 0.50 Hz)\n",
      "- Upper passband edge: 50.00 Hz\n",
      "- Upper transition bandwidth: 12.50 Hz (-6 dB cutoff frequency: 56.25 Hz)\n",
      "- Filter length: 845 samples (3.301 s)\n",
      "\n"
     ]
    },
    {
     "name": "stderr",
     "output_type": "stream",
     "text": [
      "[Parallel(n_jobs=1)]: Using backend SequentialBackend with 1 concurrent workers.\n",
      "[Parallel(n_jobs=1)]: Done   1 out of   1 | elapsed:    0.0s remaining:    0.0s\n",
      "[Parallel(n_jobs=1)]: Done   2 out of   2 | elapsed:    0.0s remaining:    0.0s\n",
      "[Parallel(n_jobs=1)]: Done   3 out of   3 | elapsed:    0.0s remaining:    0.0s\n",
      "[Parallel(n_jobs=1)]: Done   4 out of   4 | elapsed:    0.0s remaining:    0.0s\n"
     ]
    },
    {
     "name": "stdout",
     "output_type": "stream",
     "text": [
      "NOTE: pick_types() is a legacy function. New code should use inst.pick(...).\n"
     ]
    },
    {
     "name": "stderr",
     "output_type": "stream",
     "text": [
      "[Parallel(n_jobs=1)]: Done  23 out of  23 | elapsed:    0.4s finished\n"
     ]
    },
    {
     "name": "stdout",
     "output_type": "stream",
     "text": [
      "Extracting EDF parameters from C:\\Users\\deepi\\Documents\\2023 - DAE Year 1\\Semester 1\\Foundations Data Analytics Engineering\\Projects\\FDA Project3\\CHB-MIT-data-preprocessing-and-prediction-main\\CHB-MIT-data-preprocessing-and-prediction-main\\data\\chb01\\chb01_18.edf...\n",
      "EDF file detected\n",
      "Setting channel info structure...\n",
      "Creating raw.info structure...\n",
      "Reading 0 ... 921599  =      0.000 ...  3599.996 secs...\n"
     ]
    },
    {
     "name": "stderr",
     "output_type": "stream",
     "text": [
      "C:\\Users\\deepi\\AppData\\Local\\Temp\\ipykernel_8844\\542965232.py:25: RuntimeWarning: Channel names are not unique, found duplicates for: {'T8-P8'}. Applying running numbers for duplicates.\n",
      "  edf_raw = mne.io.read_raw_edf(file_name, preload=True)\n"
     ]
    },
    {
     "name": "stdout",
     "output_type": "stream",
     "text": [
      "Filtering raw data in 1 contiguous segment\n",
      "Setting up band-pass filter from 1 - 50 Hz\n",
      "\n",
      "FIR filter parameters\n",
      "---------------------\n",
      "Designing a one-pass, zero-phase, non-causal bandpass filter:\n",
      "- Windowed time-domain design (firwin) method\n",
      "- Hamming window with 0.0194 passband ripple and 53 dB stopband attenuation\n",
      "- Lower passband edge: 1.00\n",
      "- Lower transition bandwidth: 1.00 Hz (-6 dB cutoff frequency: 0.50 Hz)\n",
      "- Upper passband edge: 50.00 Hz\n",
      "- Upper transition bandwidth: 12.50 Hz (-6 dB cutoff frequency: 56.25 Hz)\n",
      "- Filter length: 845 samples (3.301 s)\n",
      "\n"
     ]
    },
    {
     "name": "stderr",
     "output_type": "stream",
     "text": [
      "[Parallel(n_jobs=1)]: Using backend SequentialBackend with 1 concurrent workers.\n",
      "[Parallel(n_jobs=1)]: Done   1 out of   1 | elapsed:    0.0s remaining:    0.0s\n",
      "[Parallel(n_jobs=1)]: Done   2 out of   2 | elapsed:    0.0s remaining:    0.0s\n",
      "[Parallel(n_jobs=1)]: Done   3 out of   3 | elapsed:    0.0s remaining:    0.0s\n",
      "[Parallel(n_jobs=1)]: Done   4 out of   4 | elapsed:    0.0s remaining:    0.0s\n"
     ]
    },
    {
     "name": "stdout",
     "output_type": "stream",
     "text": [
      "NOTE: pick_types() is a legacy function. New code should use inst.pick(...).\n"
     ]
    },
    {
     "name": "stderr",
     "output_type": "stream",
     "text": [
      "[Parallel(n_jobs=1)]: Done  23 out of  23 | elapsed:    0.3s finished\n"
     ]
    },
    {
     "name": "stdout",
     "output_type": "stream",
     "text": [
      "Extracting EDF parameters from C:\\Users\\deepi\\Documents\\2023 - DAE Year 1\\Semester 1\\Foundations Data Analytics Engineering\\Projects\\FDA Project3\\CHB-MIT-data-preprocessing-and-prediction-main\\CHB-MIT-data-preprocessing-and-prediction-main\\data\\chb01\\chb01_21.edf...\n",
      "EDF file detected\n",
      "Setting channel info structure...\n",
      "Creating raw.info structure...\n",
      "Reading 0 ... 921599  =      0.000 ...  3599.996 secs...\n",
      "Filtering raw data in 1 contiguous segment\n"
     ]
    },
    {
     "name": "stderr",
     "output_type": "stream",
     "text": [
      "C:\\Users\\deepi\\AppData\\Local\\Temp\\ipykernel_8844\\542965232.py:25: RuntimeWarning: Channel names are not unique, found duplicates for: {'T8-P8'}. Applying running numbers for duplicates.\n",
      "  edf_raw = mne.io.read_raw_edf(file_name, preload=True)\n"
     ]
    },
    {
     "name": "stdout",
     "output_type": "stream",
     "text": [
      "Setting up band-pass filter from 1 - 50 Hz\n",
      "\n",
      "FIR filter parameters\n",
      "---------------------\n",
      "Designing a one-pass, zero-phase, non-causal bandpass filter:\n",
      "- Windowed time-domain design (firwin) method\n",
      "- Hamming window with 0.0194 passband ripple and 53 dB stopband attenuation\n",
      "- Lower passband edge: 1.00\n",
      "- Lower transition bandwidth: 1.00 Hz (-6 dB cutoff frequency: 0.50 Hz)\n",
      "- Upper passband edge: 50.00 Hz\n",
      "- Upper transition bandwidth: 12.50 Hz (-6 dB cutoff frequency: 56.25 Hz)\n",
      "- Filter length: 845 samples (3.301 s)\n",
      "\n"
     ]
    },
    {
     "name": "stderr",
     "output_type": "stream",
     "text": [
      "[Parallel(n_jobs=1)]: Using backend SequentialBackend with 1 concurrent workers.\n",
      "[Parallel(n_jobs=1)]: Done   1 out of   1 | elapsed:    0.0s remaining:    0.0s\n",
      "[Parallel(n_jobs=1)]: Done   2 out of   2 | elapsed:    0.0s remaining:    0.0s\n",
      "[Parallel(n_jobs=1)]: Done   3 out of   3 | elapsed:    0.0s remaining:    0.0s\n",
      "[Parallel(n_jobs=1)]: Done   4 out of   4 | elapsed:    0.0s remaining:    0.0s\n"
     ]
    },
    {
     "name": "stdout",
     "output_type": "stream",
     "text": [
      "NOTE: pick_types() is a legacy function. New code should use inst.pick(...).\n"
     ]
    },
    {
     "name": "stderr",
     "output_type": "stream",
     "text": [
      "[Parallel(n_jobs=1)]: Done  23 out of  23 | elapsed:    0.4s finished\n"
     ]
    },
    {
     "name": "stdout",
     "output_type": "stream",
     "text": [
      "Extracting EDF parameters from C:\\Users\\deepi\\Documents\\2023 - DAE Year 1\\Semester 1\\Foundations Data Analytics Engineering\\Projects\\FDA Project3\\CHB-MIT-data-preprocessing-and-prediction-main\\CHB-MIT-data-preprocessing-and-prediction-main\\data\\chb01\\chb01_26.edf...\n",
      "EDF file detected\n",
      "Setting channel info structure...\n",
      "Creating raw.info structure...\n",
      "Reading 0 ... 595199  =      0.000 ...  2324.996 secs...\n",
      "Filtering raw data in 1 contiguous segment\n",
      "Setting up band-pass filter from 1 - 50 Hz\n",
      "\n",
      "FIR filter parameters\n",
      "---------------------\n",
      "Designing a one-pass, zero-phase, non-causal bandpass filter:\n",
      "- Windowed time-domain design (firwin) method\n",
      "- Hamming window with 0.0194 passband ripple and 53 dB stopband attenuation\n",
      "- Lower passband edge: 1.00\n",
      "- Lower transition bandwidth: 1.00 Hz (-6 dB cutoff frequency: 0.50 Hz)\n",
      "- Upper passband edge: 50.00 Hz\n",
      "- Upper transition bandwidth: 12.50 Hz (-6 dB cutoff frequency: 56.25 Hz)\n",
      "- Filter length: 845 samples (3.301 s)\n",
      "\n"
     ]
    },
    {
     "name": "stderr",
     "output_type": "stream",
     "text": [
      "C:\\Users\\deepi\\AppData\\Local\\Temp\\ipykernel_8844\\542965232.py:25: RuntimeWarning: Channel names are not unique, found duplicates for: {'T8-P8'}. Applying running numbers for duplicates.\n",
      "  edf_raw = mne.io.read_raw_edf(file_name, preload=True)\n",
      "[Parallel(n_jobs=1)]: Using backend SequentialBackend with 1 concurrent workers.\n",
      "[Parallel(n_jobs=1)]: Done   1 out of   1 | elapsed:    0.0s remaining:    0.0s\n",
      "[Parallel(n_jobs=1)]: Done   2 out of   2 | elapsed:    0.0s remaining:    0.0s\n",
      "[Parallel(n_jobs=1)]: Done   3 out of   3 | elapsed:    0.0s remaining:    0.0s\n",
      "[Parallel(n_jobs=1)]: Done   4 out of   4 | elapsed:    0.0s remaining:    0.0s\n"
     ]
    },
    {
     "name": "stdout",
     "output_type": "stream",
     "text": [
      "NOTE: pick_types() is a legacy function. New code should use inst.pick(...).\n"
     ]
    },
    {
     "name": "stderr",
     "output_type": "stream",
     "text": [
      "[Parallel(n_jobs=1)]: Done  23 out of  23 | elapsed:    0.3s finished\n"
     ]
    }
   ],
   "source": [
    "# Data preprocessing for Subject 1\n",
    "sub_code= 1\n",
    "initial_path = \"data\"\n",
    "full_X1,full_y1 = data_ingest(sub_code,initial_path)\n",
    "\n",
    "# Vertical stacking of all the dependent variables returned from data_ingest() for Subject 1\n",
    "X1 = np.vstack(full_X1)\n",
    "# Concatenation of all target variables returned from data_ingest() for Subject 1\n",
    "y1 = np.concatenate(full_y1)"
   ]
  },
  {
   "cell_type": "code",
   "execution_count": 7,
   "id": "42eb7973",
   "metadata": {},
   "outputs": [
    {
     "name": "stdout",
     "output_type": "stream",
     "text": [
      "Extracting EDF parameters from C:\\Users\\deepi\\Documents\\2023 - DAE Year 1\\Semester 1\\Foundations Data Analytics Engineering\\Projects\\FDA Project3\\CHB-MIT-data-preprocessing-and-prediction-main\\CHB-MIT-data-preprocessing-and-prediction-main\\data\\chb05\\chb05_06.edf...\n",
      "EDF file detected\n",
      "Setting channel info structure...\n",
      "Creating raw.info structure...\n",
      "Reading 0 ... 921599  =      0.000 ...  3599.996 secs...\n"
     ]
    },
    {
     "name": "stderr",
     "output_type": "stream",
     "text": [
      "C:\\Users\\deepi\\AppData\\Local\\Temp\\ipykernel_8844\\542965232.py:25: RuntimeWarning: Channel names are not unique, found duplicates for: {'T8-P8'}. Applying running numbers for duplicates.\n",
      "  edf_raw = mne.io.read_raw_edf(file_name, preload=True)\n"
     ]
    },
    {
     "name": "stdout",
     "output_type": "stream",
     "text": [
      "Filtering raw data in 1 contiguous segment\n",
      "Setting up band-pass filter from 1 - 50 Hz\n",
      "\n",
      "FIR filter parameters\n",
      "---------------------\n",
      "Designing a one-pass, zero-phase, non-causal bandpass filter:\n",
      "- Windowed time-domain design (firwin) method\n",
      "- Hamming window with 0.0194 passband ripple and 53 dB stopband attenuation\n",
      "- Lower passband edge: 1.00\n",
      "- Lower transition bandwidth: 1.00 Hz (-6 dB cutoff frequency: 0.50 Hz)\n",
      "- Upper passband edge: 50.00 Hz\n",
      "- Upper transition bandwidth: 12.50 Hz (-6 dB cutoff frequency: 56.25 Hz)\n",
      "- Filter length: 845 samples (3.301 s)\n",
      "\n"
     ]
    },
    {
     "name": "stderr",
     "output_type": "stream",
     "text": [
      "[Parallel(n_jobs=1)]: Using backend SequentialBackend with 1 concurrent workers.\n",
      "[Parallel(n_jobs=1)]: Done   1 out of   1 | elapsed:    0.0s remaining:    0.0s\n",
      "[Parallel(n_jobs=1)]: Done   2 out of   2 | elapsed:    0.0s remaining:    0.0s\n",
      "[Parallel(n_jobs=1)]: Done   3 out of   3 | elapsed:    0.0s remaining:    0.0s\n",
      "[Parallel(n_jobs=1)]: Done   4 out of   4 | elapsed:    0.0s remaining:    0.0s\n"
     ]
    },
    {
     "name": "stdout",
     "output_type": "stream",
     "text": [
      "NOTE: pick_types() is a legacy function. New code should use inst.pick(...).\n"
     ]
    },
    {
     "name": "stderr",
     "output_type": "stream",
     "text": [
      "[Parallel(n_jobs=1)]: Done  23 out of  23 | elapsed:    0.3s finished\n"
     ]
    },
    {
     "name": "stdout",
     "output_type": "stream",
     "text": [
      "Extracting EDF parameters from C:\\Users\\deepi\\Documents\\2023 - DAE Year 1\\Semester 1\\Foundations Data Analytics Engineering\\Projects\\FDA Project3\\CHB-MIT-data-preprocessing-and-prediction-main\\CHB-MIT-data-preprocessing-and-prediction-main\\data\\chb05\\chb05_13.edf...\n",
      "EDF file detected\n",
      "Setting channel info structure...\n",
      "Creating raw.info structure...\n",
      "Reading 0 ... 921599  =      0.000 ...  3599.996 secs...\n"
     ]
    },
    {
     "name": "stderr",
     "output_type": "stream",
     "text": [
      "C:\\Users\\deepi\\AppData\\Local\\Temp\\ipykernel_8844\\542965232.py:25: RuntimeWarning: Channel names are not unique, found duplicates for: {'T8-P8'}. Applying running numbers for duplicates.\n",
      "  edf_raw = mne.io.read_raw_edf(file_name, preload=True)\n"
     ]
    },
    {
     "name": "stdout",
     "output_type": "stream",
     "text": [
      "Filtering raw data in 1 contiguous segment\n",
      "Setting up band-pass filter from 1 - 50 Hz\n",
      "\n",
      "FIR filter parameters\n",
      "---------------------\n",
      "Designing a one-pass, zero-phase, non-causal bandpass filter:\n",
      "- Windowed time-domain design (firwin) method\n",
      "- Hamming window with 0.0194 passband ripple and 53 dB stopband attenuation\n",
      "- Lower passband edge: 1.00\n",
      "- Lower transition bandwidth: 1.00 Hz (-6 dB cutoff frequency: 0.50 Hz)\n",
      "- Upper passband edge: 50.00 Hz\n",
      "- Upper transition bandwidth: 12.50 Hz (-6 dB cutoff frequency: 56.25 Hz)\n",
      "- Filter length: 845 samples (3.301 s)\n",
      "\n"
     ]
    },
    {
     "name": "stderr",
     "output_type": "stream",
     "text": [
      "[Parallel(n_jobs=1)]: Using backend SequentialBackend with 1 concurrent workers.\n",
      "[Parallel(n_jobs=1)]: Done   1 out of   1 | elapsed:    0.0s remaining:    0.0s\n",
      "[Parallel(n_jobs=1)]: Done   2 out of   2 | elapsed:    0.0s remaining:    0.0s\n",
      "[Parallel(n_jobs=1)]: Done   3 out of   3 | elapsed:    0.0s remaining:    0.0s\n",
      "[Parallel(n_jobs=1)]: Done   4 out of   4 | elapsed:    0.0s remaining:    0.0s\n"
     ]
    },
    {
     "name": "stdout",
     "output_type": "stream",
     "text": [
      "NOTE: pick_types() is a legacy function. New code should use inst.pick(...).\n"
     ]
    },
    {
     "name": "stderr",
     "output_type": "stream",
     "text": [
      "[Parallel(n_jobs=1)]: Done  23 out of  23 | elapsed:    0.4s finished\n"
     ]
    },
    {
     "name": "stdout",
     "output_type": "stream",
     "text": [
      "Extracting EDF parameters from C:\\Users\\deepi\\Documents\\2023 - DAE Year 1\\Semester 1\\Foundations Data Analytics Engineering\\Projects\\FDA Project3\\CHB-MIT-data-preprocessing-and-prediction-main\\CHB-MIT-data-preprocessing-and-prediction-main\\data\\chb05\\chb05_16.edf...\n",
      "EDF file detected\n",
      "Setting channel info structure...\n",
      "Creating raw.info structure...\n",
      "Reading 0 ... 921599  =      0.000 ...  3599.996 secs...\n"
     ]
    },
    {
     "name": "stderr",
     "output_type": "stream",
     "text": [
      "C:\\Users\\deepi\\AppData\\Local\\Temp\\ipykernel_8844\\542965232.py:25: RuntimeWarning: Channel names are not unique, found duplicates for: {'T8-P8'}. Applying running numbers for duplicates.\n",
      "  edf_raw = mne.io.read_raw_edf(file_name, preload=True)\n"
     ]
    },
    {
     "name": "stdout",
     "output_type": "stream",
     "text": [
      "Filtering raw data in 1 contiguous segment\n",
      "Setting up band-pass filter from 1 - 50 Hz\n",
      "\n",
      "FIR filter parameters\n",
      "---------------------\n",
      "Designing a one-pass, zero-phase, non-causal bandpass filter:\n",
      "- Windowed time-domain design (firwin) method\n",
      "- Hamming window with 0.0194 passband ripple and 53 dB stopband attenuation\n",
      "- Lower passband edge: 1.00\n",
      "- Lower transition bandwidth: 1.00 Hz (-6 dB cutoff frequency: 0.50 Hz)\n",
      "- Upper passband edge: 50.00 Hz\n",
      "- Upper transition bandwidth: 12.50 Hz (-6 dB cutoff frequency: 56.25 Hz)\n",
      "- Filter length: 845 samples (3.301 s)\n",
      "\n"
     ]
    },
    {
     "name": "stderr",
     "output_type": "stream",
     "text": [
      "[Parallel(n_jobs=1)]: Using backend SequentialBackend with 1 concurrent workers.\n",
      "[Parallel(n_jobs=1)]: Done   1 out of   1 | elapsed:    0.0s remaining:    0.0s\n",
      "[Parallel(n_jobs=1)]: Done   2 out of   2 | elapsed:    0.0s remaining:    0.0s\n",
      "[Parallel(n_jobs=1)]: Done   3 out of   3 | elapsed:    0.0s remaining:    0.0s\n",
      "[Parallel(n_jobs=1)]: Done   4 out of   4 | elapsed:    0.0s remaining:    0.0s\n"
     ]
    },
    {
     "name": "stdout",
     "output_type": "stream",
     "text": [
      "NOTE: pick_types() is a legacy function. New code should use inst.pick(...).\n"
     ]
    },
    {
     "name": "stderr",
     "output_type": "stream",
     "text": [
      "[Parallel(n_jobs=1)]: Done  23 out of  23 | elapsed:    0.4s finished\n"
     ]
    },
    {
     "name": "stdout",
     "output_type": "stream",
     "text": [
      "Extracting EDF parameters from C:\\Users\\deepi\\Documents\\2023 - DAE Year 1\\Semester 1\\Foundations Data Analytics Engineering\\Projects\\FDA Project3\\CHB-MIT-data-preprocessing-and-prediction-main\\CHB-MIT-data-preprocessing-and-prediction-main\\data\\chb05\\chb05_17.edf...\n",
      "EDF file detected\n",
      "Setting channel info structure...\n",
      "Creating raw.info structure...\n",
      "Reading 0 ... 921599  =      0.000 ...  3599.996 secs...\n"
     ]
    },
    {
     "name": "stderr",
     "output_type": "stream",
     "text": [
      "C:\\Users\\deepi\\AppData\\Local\\Temp\\ipykernel_8844\\542965232.py:25: RuntimeWarning: Channel names are not unique, found duplicates for: {'T8-P8'}. Applying running numbers for duplicates.\n",
      "  edf_raw = mne.io.read_raw_edf(file_name, preload=True)\n"
     ]
    },
    {
     "name": "stdout",
     "output_type": "stream",
     "text": [
      "Filtering raw data in 1 contiguous segment\n",
      "Setting up band-pass filter from 1 - 50 Hz\n",
      "\n",
      "FIR filter parameters\n",
      "---------------------\n",
      "Designing a one-pass, zero-phase, non-causal bandpass filter:\n",
      "- Windowed time-domain design (firwin) method\n",
      "- Hamming window with 0.0194 passband ripple and 53 dB stopband attenuation\n",
      "- Lower passband edge: 1.00\n",
      "- Lower transition bandwidth: 1.00 Hz (-6 dB cutoff frequency: 0.50 Hz)\n",
      "- Upper passband edge: 50.00 Hz\n",
      "- Upper transition bandwidth: 12.50 Hz (-6 dB cutoff frequency: 56.25 Hz)\n",
      "- Filter length: 845 samples (3.301 s)\n",
      "\n"
     ]
    },
    {
     "name": "stderr",
     "output_type": "stream",
     "text": [
      "[Parallel(n_jobs=1)]: Using backend SequentialBackend with 1 concurrent workers.\n",
      "[Parallel(n_jobs=1)]: Done   1 out of   1 | elapsed:    0.0s remaining:    0.0s\n",
      "[Parallel(n_jobs=1)]: Done   2 out of   2 | elapsed:    0.0s remaining:    0.0s\n",
      "[Parallel(n_jobs=1)]: Done   3 out of   3 | elapsed:    0.0s remaining:    0.0s\n",
      "[Parallel(n_jobs=1)]: Done   4 out of   4 | elapsed:    0.0s remaining:    0.0s\n"
     ]
    },
    {
     "name": "stdout",
     "output_type": "stream",
     "text": [
      "NOTE: pick_types() is a legacy function. New code should use inst.pick(...).\n"
     ]
    },
    {
     "name": "stderr",
     "output_type": "stream",
     "text": [
      "[Parallel(n_jobs=1)]: Done  23 out of  23 | elapsed:    0.4s finished\n"
     ]
    },
    {
     "name": "stdout",
     "output_type": "stream",
     "text": [
      "Extracting EDF parameters from C:\\Users\\deepi\\Documents\\2023 - DAE Year 1\\Semester 1\\Foundations Data Analytics Engineering\\Projects\\FDA Project3\\CHB-MIT-data-preprocessing-and-prediction-main\\CHB-MIT-data-preprocessing-and-prediction-main\\data\\chb05\\chb05_22.edf...\n",
      "EDF file detected\n",
      "Setting channel info structure...\n",
      "Creating raw.info structure...\n",
      "Reading 0 ... 921599  =      0.000 ...  3599.996 secs...\n"
     ]
    },
    {
     "name": "stderr",
     "output_type": "stream",
     "text": [
      "C:\\Users\\deepi\\AppData\\Local\\Temp\\ipykernel_8844\\542965232.py:25: RuntimeWarning: Channel names are not unique, found duplicates for: {'T8-P8'}. Applying running numbers for duplicates.\n",
      "  edf_raw = mne.io.read_raw_edf(file_name, preload=True)\n"
     ]
    },
    {
     "name": "stdout",
     "output_type": "stream",
     "text": [
      "Filtering raw data in 1 contiguous segment\n",
      "Setting up band-pass filter from 1 - 50 Hz\n",
      "\n",
      "FIR filter parameters\n",
      "---------------------\n",
      "Designing a one-pass, zero-phase, non-causal bandpass filter:\n",
      "- Windowed time-domain design (firwin) method\n",
      "- Hamming window with 0.0194 passband ripple and 53 dB stopband attenuation\n",
      "- Lower passband edge: 1.00\n",
      "- Lower transition bandwidth: 1.00 Hz (-6 dB cutoff frequency: 0.50 Hz)\n",
      "- Upper passband edge: 50.00 Hz\n",
      "- Upper transition bandwidth: 12.50 Hz (-6 dB cutoff frequency: 56.25 Hz)\n",
      "- Filter length: 845 samples (3.301 s)\n",
      "\n"
     ]
    },
    {
     "name": "stderr",
     "output_type": "stream",
     "text": [
      "[Parallel(n_jobs=1)]: Using backend SequentialBackend with 1 concurrent workers.\n",
      "[Parallel(n_jobs=1)]: Done   1 out of   1 | elapsed:    0.0s remaining:    0.0s\n",
      "[Parallel(n_jobs=1)]: Done   2 out of   2 | elapsed:    0.0s remaining:    0.0s\n",
      "[Parallel(n_jobs=1)]: Done   3 out of   3 | elapsed:    0.0s remaining:    0.0s\n",
      "[Parallel(n_jobs=1)]: Done   4 out of   4 | elapsed:    0.0s remaining:    0.0s\n"
     ]
    },
    {
     "name": "stdout",
     "output_type": "stream",
     "text": [
      "NOTE: pick_types() is a legacy function. New code should use inst.pick(...).\n"
     ]
    },
    {
     "name": "stderr",
     "output_type": "stream",
     "text": [
      "[Parallel(n_jobs=1)]: Done  23 out of  23 | elapsed:    0.4s finished\n"
     ]
    }
   ],
   "source": [
    "# Data preprocessing for Subject 5\n",
    "sub_code= 5\n",
    "initial_path = \"data\"\n",
    "full_X5,full_y5 = data_ingest(sub_code,initial_path)\n",
    "\n",
    "# Vertical stacking of all the dependent variables returned from data_ingest() for Subject 5\n",
    "X5 = np.vstack(full_X5)\n",
    "\n",
    "# Concatenation of all target variables returned from data_ingest() for Subject 5\n",
    "y5 = np.concatenate(full_y5)"
   ]
  },
  {
   "cell_type": "markdown",
   "id": "0234c939",
   "metadata": {},
   "source": [
    "### Data Splitting"
   ]
  },
  {
   "cell_type": "code",
   "execution_count": 8,
   "id": "3ed49722",
   "metadata": {},
   "outputs": [
    {
     "name": "stdout",
     "output_type": "stream",
     "text": [
      "Accuracy of Decision Tree Classifier: 0.8752118857968766\n",
      "F1 Score of Decision Tree Classifier: 0.8774973657030182\n"
     ]
    }
   ],
   "source": [
    "# Vertical stacking of all the dependent variables returned from data_ingest()\n",
    "X = np.vstack([X1,X5])\n",
    "\n",
    "# Concatenation of all target variables returned from data_ingest()\n",
    "y = np.concatenate([y1,y5])\n",
    "\n",
    "# Upsampling the monority classes of target variable to handle class imbalance bias\n",
    "sm = SMOTE()\n",
    "\n",
    "X_smote, y_smote = sm.fit_resample(X, y)\n",
    "\n",
    "# Spliting data into train and test\n",
    "X_train, X_test, y_train, y_test = train_test_split(X_smote, y_smote, test_size=0.3, random_state=0)\n",
    "\n",
    "# Decision tree model\n",
    "dtc_model = DecisionTreeClassifier(random_state=0)\n",
    "dtc_model.fit(X_train, y_train)\n",
    "\n",
    "\n",
    "y_pred_dtc = dtc_model.predict(X_test)\n",
    "\n",
    "#Decision tree evaluation metrics\n",
    "acc_dtc = accuracy_score(y_test, y_pred_dtc)\n",
    "print(\"Accuracy of Decision Tree Classifier:\", acc_dtc)\n",
    "\n",
    "f1_dtc = f1_score(y_test, y_pred_dtc)\n",
    "print(\"F1 Score of Decision Tree Classifier:\", f1_dtc)"
   ]
  },
  {
   "cell_type": "code",
   "execution_count": 14,
   "id": "e65690a9",
   "metadata": {},
   "outputs": [
    {
     "data": {
      "text/plain": [
       "(224997, 391)"
      ]
     },
     "execution_count": 14,
     "metadata": {},
     "output_type": "execute_result"
    }
   ],
   "source": [
    "X_train.shape"
   ]
  },
  {
   "cell_type": "markdown",
   "id": "b24d8b8c",
   "metadata": {},
   "source": [
    "### Model Selecting, Training, Evaluation"
   ]
  },
  {
   "cell_type": "code",
   "execution_count": 18,
   "id": "21871a39",
   "metadata": {},
   "outputs": [
    {
     "name": "stdout",
     "output_type": "stream",
     "text": [
      "Accuracy of Random Forest Classifier: 0.9770813456672336\n",
      "F1 Score of Random Forest Classifier: 0.1038118410381184\n"
     ]
    }
   ],
   "source": [
    "rf_model = RandomForestClassifier(random_state=0)\n",
    "rf_model.fit(X_train, y_train)\n",
    "\n",
    "y_pred_rf = rf_model.predict(X_test)\n",
    "\n",
    "# Random Forest evaluation metrics\n",
    "acc_rf = accuracy_score(y_test, y_pred_rf)\n",
    "print(\"Accuracy of Random Forest Classifier:\", acc_rf)\n",
    "\n",
    "f1_rf = f1_score(y_test, y_pred_rf)\n",
    "print(\"F1 Score of Random Forest Classifier:\", f1_rf)"
   ]
  },
  {
   "cell_type": "code",
   "execution_count": 19,
   "id": "25d76d19",
   "metadata": {},
   "outputs": [
    {
     "name": "stdout",
     "output_type": "stream",
     "text": [
      "Epoch 1/10\n",
      "WARNING:tensorflow:From C:\\Users\\deepi\\AppData\\Roaming\\Python\\Python311\\site-packages\\keras\\src\\utils\\tf_utils.py:492: The name tf.ragged.RaggedTensorValue is deprecated. Please use tf.compat.v1.ragged.RaggedTensorValue instead.\n",
      "\n",
      "WARNING:tensorflow:From C:\\Users\\deepi\\AppData\\Roaming\\Python\\Python311\\site-packages\\keras\\src\\engine\\base_layer_utils.py:384: The name tf.executing_eagerly_outside_functions is deprecated. Please use tf.compat.v1.executing_eagerly_outside_functions instead.\n",
      "\n",
      "7233/7233 [==============================] - 50s 7ms/step - loss: 0.1126 - accuracy: 0.9759 - val_loss: 0.1177 - val_accuracy: 0.9743\n",
      "Epoch 2/10\n",
      "7233/7233 [==============================] - 39s 5ms/step - loss: 0.1106 - accuracy: 0.9760 - val_loss: 0.1209 - val_accuracy: 0.9743\n",
      "Epoch 3/10\n",
      "7233/7233 [==============================] - 36s 5ms/step - loss: 0.1099 - accuracy: 0.9760 - val_loss: 0.1155 - val_accuracy: 0.9743\n",
      "Epoch 4/10\n",
      "7233/7233 [==============================] - 41s 6ms/step - loss: 0.1098 - accuracy: 0.9760 - val_loss: 0.1160 - val_accuracy: 0.9743\n",
      "Epoch 5/10\n",
      "7233/7233 [==============================] - 48s 7ms/step - loss: 0.1095 - accuracy: 0.9760 - val_loss: 0.1163 - val_accuracy: 0.9743\n",
      "Epoch 6/10\n",
      "7233/7233 [==============================] - 51s 7ms/step - loss: 0.1094 - accuracy: 0.9760 - val_loss: 0.1148 - val_accuracy: 0.9743\n",
      "Epoch 7/10\n",
      "7233/7233 [==============================] - 56s 8ms/step - loss: 0.1092 - accuracy: 0.9760 - val_loss: 0.1155 - val_accuracy: 0.9743\n",
      "Epoch 8/10\n",
      "7233/7233 [==============================] - 44s 6ms/step - loss: 0.1091 - accuracy: 0.9760 - val_loss: 0.1148 - val_accuracy: 0.9743\n",
      "Epoch 9/10\n",
      "7233/7233 [==============================] - 58s 8ms/step - loss: 0.1089 - accuracy: 0.9760 - val_loss: 0.1149 - val_accuracy: 0.9743\n",
      "Epoch 10/10\n",
      "7233/7233 [==============================] - 48s 7ms/step - loss: 0.1088 - accuracy: 0.9760 - val_loss: 0.1153 - val_accuracy: 0.9743\n",
      "2009/2009 [==============================] - 4s 2ms/step - loss: 0.1105 - accuracy: 0.9757\n",
      "Test accuracy: 97.57%\n"
     ]
    }
   ],
   "source": [
    "X = X.reshape(X.shape[0], X.shape[1], 1)\n",
    "\n",
    "X_train, X_test, y_train, y_test = train_test_split(X, y, test_size=0.2, random_state=42)\n",
    "\n",
    "# Building the CNN model\n",
    "model = Sequential()\n",
    "model.add(Conv1D(32, 3, activation='relu', input_shape=X_train.shape[1:]))\n",
    "model.add(MaxPooling1D(2))\n",
    "model.add(Conv1D(64, 3, activation='relu'))\n",
    "model.add(MaxPooling1D(2))\n",
    "model.add(Flatten())\n",
    "model.add(Dense(64, activation='relu'))\n",
    "model.add(Dense(1, activation='sigmoid'))  # Binary classification, so using sigmoid\n",
    "\n",
    "# Compile the model\n",
    "model.compile(optimizer='adam', loss='binary_crossentropy', metrics=['accuracy'])\n",
    "\n",
    "# Train the model\n",
    "model.fit(X_train, y_train, epochs=10, batch_size=32, validation_split=0.1)\n",
    "\n",
    "# Evaluate the model on the test set\n",
    "loss, accuracy = model.evaluate(X_test, y_test)\n",
    "print(f'Test accuracy: {accuracy * 100:.2f}%')\n"
   ]
  },
  {
   "cell_type": "markdown",
   "id": "4677e142",
   "metadata": {},
   "source": [
    "### Testing"
   ]
  },
  {
   "cell_type": "code",
   "execution_count": 20,
   "id": "d6800b74",
   "metadata": {},
   "outputs": [
    {
     "name": "stdout",
     "output_type": "stream",
     "text": [
      "2009/2009 [==============================] - 4s 2ms/step\n",
      "F1 score: 0.0921\n"
     ]
    }
   ],
   "source": [
    "# Predict on the test set\n",
    "y_pred = model.predict(X_test)\n",
    "y_pred = (y_pred > 0.05).astype(int)  # Convert probabilities to binary predictions\n",
    "\n",
    "# Calculate F1 score\n",
    "f1 = f1_score(y_test, y_pred)\n",
    "print(f'F1 score: {f1:.4f}')"
   ]
  },
  {
   "cell_type": "markdown",
   "id": "e0185e99",
   "metadata": {},
   "source": [
    "### Results and Visualization"
   ]
  },
  {
   "cell_type": "code",
   "execution_count": 21,
   "id": "2eb6953b",
   "metadata": {},
   "outputs": [
    {
     "name": "stdout",
     "output_type": "stream",
     "text": [
      "           Model  Accuracy  F1 Score\n",
      "0  Random Forest  0.977081  0.103812\n",
      "1  Decision Tree  0.875212  0.877497\n",
      "2            CNN  0.975655  0.092074\n"
     ]
    }
   ],
   "source": [
    "data = {\n",
    "    'Model': ['Random Forest', 'Decision Tree', 'CNN'],\n",
    "    'Accuracy': [acc_rf, acc_dtc, accuracy],\n",
    "    'F1 Score': [f1_rf, f1_dtc, f1]\n",
    "}\n",
    "\n",
    "df = pd.DataFrame(data)\n",
    "print(df)"
   ]
  },
  {
   "cell_type": "code",
   "execution_count": 29,
   "id": "864b01f1",
   "metadata": {},
   "outputs": [
    {
     "data": {
      "text/plain": [
       "<Axes: >"
      ]
     },
     "execution_count": 29,
     "metadata": {},
     "output_type": "execute_result"
    },
    {
     "data": {
      "image/png": "[encoded data removed]",
      "text/plain": [
       "<Figure size 640x480 with 1 Axes>"
      ]
     },
     "metadata": {},
     "output_type": "display_data"
    }
   ],
   "source": [
    "sns.barplot(data=data, x='Model', y='Accuracy', palette='rocket')"
   ]
  },
  {
   "cell_type": "code",
   "execution_count": 30,
   "id": "b1578d78",
   "metadata": {},
   "outputs": [
    {
     "data": {
      "text/plain": [
       "<Axes: >"
      ]
     },
     "execution_count": 30,
     "metadata": {},
     "output_type": "execute_result"
    },
    {
     "data": {
      "image/png": "[encoded data removed]",
      "text/plain": [
       "<Figure size 640x480 with 1 Axes>"
      ]
     },
     "metadata": {},
     "output_type": "display_data"
    }
   ],
   "source": [
    "sns.barplot(data=data, x='Model', y='F1 Score', palette='Paired')"
   ]
  }
 ],
 "metadata": {
  "kernelspec": {
   "display_name": "Python 3 (ipykernel)",
   "language": "python",
   "name": "python3"
  },
  "language_info": {
   "codemirror_mode": {
    "name": "ipython",
    "version": 3
   },
   "file_extension": ".py",
   "mimetype": "text/x-python",
   "name": "python",
   "nbconvert_exporter": "python",
   "pygments_lexer": "ipython3",
   "version": "3.11.4"
  }
 },
 "nbformat": 4,
 "nbformat_minor": 5
}
